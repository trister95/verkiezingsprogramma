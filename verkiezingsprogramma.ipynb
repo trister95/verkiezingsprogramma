{
 "cells": [
  {
   "cell_type": "markdown",
   "metadata": {},
   "source": [
    "# **Text Mining on Dutch party programmes**"
   ]
  },
  {
   "cell_type": "markdown",
   "metadata": {},
   "source": [
    "## **Imports**"
   ]
  },
  {
   "cell_type": "code",
   "execution_count": 2,
   "metadata": {},
   "outputs": [],
   "source": [
    "import os\n",
    "import matplotlib.pyplot as plt"
   ]
  },
  {
   "cell_type": "markdown",
   "metadata": {},
   "source": [
    "## **Define paths**"
   ]
  },
  {
   "cell_type": "code",
   "execution_count": 1,
   "metadata": {},
   "outputs": [],
   "source": [
    "pdf_folder =  'data/vkps/total_vkps'\n",
    "text_folder = 'data/vkps_texts'\n",
    "folia_folder = 'data/folias'\n",
    "plot_directory = \"outputs/plots/topics_without_non_thematic\"\n",
    "csv_directory = \"outputs/csvs\""
   ]
  },
  {
   "cell_type": "markdown",
   "metadata": {},
   "source": [
    "## **Convert pdf's to text files**"
   ]
  },
  {
   "cell_type": "code",
   "execution_count": null,
   "metadata": {},
   "outputs": [],
   "source": [
    "from parsing.pdf_to_txt import pdf_to_text\n",
    "\n",
    "files = os.listdir(pdf_folder)\n",
    "for file_name in files:\n",
    "    if file_name.endswith('.pdf'):\n",
    "        pdf_path = os.path.join(pdf_folder, file_name)\n",
    "        text_path = os.path.join(text_folder, file_name.replace('.pdf', '.txt'))\n",
    "        pdf_to_text(pdf_path, text_path)\n",
    "        print(f\"Converted {file_name} to text.\")\n"
   ]
  },
  {
   "cell_type": "markdown",
   "metadata": {},
   "source": [
    "## **Convert text files to folia**"
   ]
  },
  {
   "cell_type": "code",
   "execution_count": 4,
   "metadata": {},
   "outputs": [
    {
     "name": "stderr",
     "output_type": "stream",
     "text": [
      "looping through text files: 100%|██████████| 3/3 [00:09<00:00,  3.27s/it]\n"
     ]
    }
   ],
   "source": [
    "from parsing.txt_to_folia import txt_to_folia\n",
    "txt_to_folia(text_folder, folia_folder)"
   ]
  },
  {
   "cell_type": "markdown",
   "metadata": {},
   "source": [
    "## **Classify sentences**"
   ]
  },
  {
   "cell_type": "code",
   "execution_count": 3,
   "metadata": {},
   "outputs": [
    {
     "name": "stderr",
     "output_type": "stream",
     "text": [
      "2023-11-06 11:07:56.541459: I tensorflow/tsl/cuda/cudart_stub.cc:28] Could not find cuda drivers on your machine, GPU will not be used.\n",
      "2023-11-06 11:07:56.934643: I tensorflow/tsl/cuda/cudart_stub.cc:28] Could not find cuda drivers on your machine, GPU will not be used.\n",
      "2023-11-06 11:07:56.936390: I tensorflow/core/platform/cpu_feature_guard.cc:182] This TensorFlow binary is optimized to use available CPU instructions in performance-critical operations.\n",
      "To enable the following instructions: AVX2 FMA, in other operations, rebuild TensorFlow with the appropriate compiler flags.\n",
      "2023-11-06 11:07:59.893829: W tensorflow/compiler/tf2tensorrt/utils/py_utils.cc:38] TF-TRT Warning: Could not find TensorRT\n",
      "100%|██████████| 2752/2752 [02:59<00:00, 15.31it/s]\n",
      "100%|██████████| 665/665 [00:43<00:00, 15.41it/s]\n",
      "100%|██████████| 4842/4842 [04:59<00:00, 16.16it/s]\n",
      "100%|██████████| 579/579 [00:38<00:00, 15.09it/s]\n",
      "100%|██████████| 2670/2670 [02:53<00:00, 15.35it/s]\n",
      "100%|██████████| 2987/2987 [03:04<00:00, 16.17it/s]\n",
      "100%|██████████| 458/458 [00:34<00:00, 13.22it/s]\n",
      "100%|██████████| 3089/3089 [03:20<00:00, 15.38it/s]\n",
      "100%|██████████| 152/152 [00:10<00:00, 14.64it/s]\n",
      "100%|██████████| 801/801 [00:55<00:00, 14.38it/s]\n",
      "100%|██████████| 3001/3001 [03:14<00:00, 15.43it/s]\n",
      "100%|██████████| 710/710 [00:44<00:00, 16.04it/s]\n",
      "100%|██████████| 256/256 [00:16<00:00, 15.16it/s]\n",
      "100%|██████████| 1266/1266 [01:20<00:00, 15.72it/s]\n",
      "100%|██████████| 1458/1458 [01:42<00:00, 14.18it/s]\n",
      "100%|██████████| 1886/1886 [02:40<00:00, 11.74it/s]\n",
      "100%|██████████| 986/986 [01:08<00:00, 14.32it/s]\n",
      "100%|██████████| 5004/5004 [05:32<00:00, 15.05it/s]\n",
      "100%|██████████| 1934/1934 [02:07<00:00, 15.21it/s]\n"
     ]
    }
   ],
   "source": [
    "import os\n",
    "from classifying.folia_to_classification import process_and_concat_files, calculate_metrics, clean_topics\n",
    "\n",
    "df = process_and_concat_files(folia_folder)\n",
    "df = clean_topics(df)\n",
    "path_df = os.path.join(csv_directory, \"parties_sentences_topics.csv\")\n",
    "df.to_csv(path_df)\n",
    "\n",
    "metrics_df = calculate_metrics(df)\n",
    "path_metrics_df = os.path.join(csv_directory, \"metrics.csv\")\n",
    "metrics_df.to_csv(path_metrics_df)"
   ]
  },
  {
   "cell_type": "markdown",
   "metadata": {},
   "source": [
    "## **Plot party attention profiles**"
   ]
  },
  {
   "cell_type": "code",
   "execution_count": null,
   "metadata": {},
   "outputs": [],
   "source": [
    "plt.style.use('ggplot')\n",
    "\n",
    "parties = metrics_df['party'].unique()\n",
    "\n",
    "for party in parties:\n",
    "    party_data = metrics_df[metrics_df['party'] == party]\n",
    "    party_data_sorted = party_data.sort_values('relative_difference', ascending=True)\n",
    "    \n",
    "    fig, ax = plt.subplots(figsize=(10, 8))\n",
    "    bar_colors = ['#ffb6c1' if x < 0 else '#add8e6' for x in party_data_sorted['relative_difference']]\n",
    "    bars = ax.barh(party_data_sorted['primary_topic'], party_data_sorted['relative_difference'], color=bar_colors)\n",
    "    ax.axvline(0, color='black', linewidth=0.8)\n",
    "    \n",
    "    ax.set_xlabel('Relative Difference (%)')\n",
    "    ax.set_title(f'Relative Difference in Topic Attention for {party}')\n",
    "    ax.spines['right'].set_visible(False)\n",
    "    ax.spines['top'].set_visible(False)\n",
    "    ax.spines['left'].set_visible(False)\n",
    "    ax.grid(True, axis='x', linestyle='--', alpha=0.7)\n",
    "    ax.text(0.95, 0.01, 'Arjan van Dalfsen',\n",
    "        verticalalignment='bottom', horizontalalignment='right',\n",
    "        transform=ax.transAxes, color='grey', fontsize=8, alpha=0.5)\n",
    "\n",
    "    for bar in bars:\n",
    "        width = bar.get_width()\n",
    "        label_x_pos = width if width > 0 else width - 5\n",
    "        ax.text(label_x_pos, bar.get_y() + bar.get_height()/2, f'{width:.0f}%', va='center')\n",
    "    \n",
    "    figure_path = os.path.join(plot_directory, f'{party}.png')\n",
    "    plt.tight_layout()\n",
    "    plt.savefig(figure_path, bbox_inches='tight')\n",
    "    plt.show()"
   ]
  },
  {
   "cell_type": "markdown",
   "metadata": {},
   "source": [
    "## **Inspect party, topic, sentence**"
   ]
  },
  {
   "cell_type": "code",
   "execution_count": 14,
   "metadata": {},
   "outputs": [],
   "source": [
    "def export_sentences(df, party_name, topic_name, n_or_frac):\n",
    "    filtered_df = df[(df['party'] == party_name) & (df['primary_topic'] == topic_name)]\n",
    "    \n",
    "    if n_or_frac <= 1:\n",
    "        n = int(len(filtered_df) * n_or_frac)\n",
    "    else:\n",
    "        n = int(n_or_frac)\n",
    "    \n",
    "    selected_sentences = filtered_df['sentence'].head(n)\n",
    "    \n",
    "    output_text = '\\n'.join(selected_sentences)\n",
    "    \n",
    "    return output_text"
   ]
  },
  {
   "cell_type": "code",
   "execution_count": null,
   "metadata": {},
   "outputs": [],
   "source": [
    "#example\n",
    "output_text = export_sentences(df, 'NSC', 'Law and Crime', 1)\n"
   ]
  }
 ],
 "metadata": {
  "kernelspec": {
   "display_name": "Python 3",
   "language": "python",
   "name": "python3"
  },
  "language_info": {
   "codemirror_mode": {
    "name": "ipython",
    "version": 3
   },
   "file_extension": ".py",
   "mimetype": "text/x-python",
   "name": "python",
   "nbconvert_exporter": "python",
   "pygments_lexer": "ipython3",
   "version": "3.11.6"
  },
  "orig_nbformat": 4
 },
 "nbformat": 4,
 "nbformat_minor": 2
}
